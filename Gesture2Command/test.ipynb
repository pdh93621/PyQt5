{
 "cells": [
  {
   "cell_type": "code",
   "execution_count": 36,
   "source": [
    "import os\r\n",
    "import custom_ppt\r\n",
    "import winreg"
   ],
   "outputs": [],
   "metadata": {}
  },
  {
   "cell_type": "code",
   "execution_count": 2,
   "source": [
    "cp = \"customPPT.txt\"\r\n",
    "se = \"ppt_environment_setting.txt\""
   ],
   "outputs": [],
   "metadata": {}
  },
  {
   "cell_type": "code",
   "execution_count": 3,
   "source": [
    "PATHBASE = 'c:/Python/Pyqt5/Gesture2Command'"
   ],
   "outputs": [],
   "metadata": {}
  },
  {
   "cell_type": "code",
   "execution_count": 4,
   "source": [
    "with open(os.path.join(PATHBASE, cp)) as f:\r\n",
    "    l = f.readlines()"
   ],
   "outputs": [],
   "metadata": {}
  },
  {
   "cell_type": "code",
   "execution_count": 5,
   "source": [
    "l"
   ],
   "outputs": [
    {
     "output_type": "execute_result",
     "data": {
      "text/plain": [
       "['StartEnd|K\\n',\n",
       " 'NextSlide|L\\n',\n",
       " 'PreviousSlide|zero\\n',\n",
       " 'AddLink|zero|five|www.naver.com\\n']"
      ]
     },
     "metadata": {},
     "execution_count": 5
    }
   ],
   "metadata": {}
  },
  {
   "cell_type": "code",
   "execution_count": 6,
   "source": [
    "k = []\r\n",
    "for line in l:\r\n",
    "    k.append(line[:-1].split('|'))"
   ],
   "outputs": [],
   "metadata": {}
  },
  {
   "cell_type": "code",
   "execution_count": 7,
   "source": [
    "k"
   ],
   "outputs": [
    {
     "output_type": "execute_result",
     "data": {
      "text/plain": [
       "[['StartEnd', 'K'],\n",
       " ['NextSlide', 'L'],\n",
       " ['PreviousSlide', 'zero'],\n",
       " ['AddLink', 'zero', 'five', 'www.naver.com']]"
      ]
     },
     "metadata": {},
     "execution_count": 7
    }
   ],
   "metadata": {}
  },
  {
   "cell_type": "code",
   "execution_count": 8,
   "source": [
    "command_lists = ['StartEnd', 'NextSlide', 'PreviousSlide', 'AddMedia', 'AddLink']\r\n",
    "motion_lists = ['zero', 'one', 'two', 'three', 'four', 'five', 'K', 'L']"
   ],
   "outputs": [],
   "metadata": {}
  },
  {
   "cell_type": "code",
   "execution_count": 9,
   "source": [
    "example = ['AddLink', 'zero', 'five', 'www.naver.com']"
   ],
   "outputs": [],
   "metadata": {}
  },
  {
   "cell_type": "code",
   "execution_count": 10,
   "source": [
    "def list2para(custom):\r\n",
    "    if custom[0] in command_lists[:3]:\r\n",
    "        temp = [custom[0], custom[1:]]\r\n",
    "        \r\n",
    "    elif custom[0] == command_lists[3]:\r\n",
    "        temp = [custom[0], custom[1:-2], custom[-2], custom[-1]]\r\n",
    "\r\n",
    "    elif custom[0] == command_lists[4]:\r\n",
    "        temp = [custom[0], custom[1:-1], custom[-1]]\r\n",
    "\r\n",
    "    return temp\r\n",
    "    "
   ],
   "outputs": [],
   "metadata": {}
  },
  {
   "cell_type": "code",
   "execution_count": 11,
   "source": [
    "def text2code():\r\n",
    "    cp = \"customPPT.txt\"\r\n",
    "    se = \"ppt_environment_setting.txt\"\r\n",
    "    PATHBASE = 'c:/Python/Pyqt5/Gesture2Command'\r\n",
    "    with open(os.path.join(PATHBASE, cp)) as f:\r\n",
    "        customppt = [l[:-1].split('|') for l in f.readlines()]\r\n",
    "    #print(customppt)\r\n",
    "\r\n",
    "    with open(os.path.join(PATHBASE, se)) as f:\r\n",
    "        settingevi = f.readline().split('|')\r\n",
    "    #print(settingevi)\r\n"
   ],
   "outputs": [],
   "metadata": {}
  },
  {
   "cell_type": "code",
   "execution_count": 12,
   "source": [
    "custom_command = list2para(example)\r\n",
    "print(custom_command)"
   ],
   "outputs": [
    {
     "output_type": "stream",
     "name": "stdout",
     "text": [
      "['AddLink', ['zero', 'five'], 'www.naver.com']\n"
     ]
    }
   ],
   "metadata": {}
  },
  {
   "cell_type": "code",
   "execution_count": 13,
   "source": [
    "gogo = getattr(custom_ppt, custom_command[0])(*custom_command[1:])"
   ],
   "outputs": [],
   "metadata": {}
  },
  {
   "cell_type": "code",
   "execution_count": 14,
   "source": [
    "print(gogo.motion)\r\n",
    "print(gogo.link)"
   ],
   "outputs": [
    {
     "output_type": "stream",
     "name": "stdout",
     "text": [
      "['zero', 'five']\n",
      "www.naver.com\n"
     ]
    }
   ],
   "metadata": {}
  },
  {
   "cell_type": "code",
   "execution_count": 15,
   "source": [
    "gogo.g2c(custom_command[1])"
   ],
   "outputs": [],
   "metadata": {}
  },
  {
   "cell_type": "code",
   "execution_count": 16,
   "source": [
    "gogo.is_open_link"
   ],
   "outputs": [
    {
     "output_type": "execute_result",
     "data": {
      "text/plain": [
       "True"
      ]
     },
     "metadata": {},
     "execution_count": 16
    }
   ],
   "metadata": {}
  },
  {
   "cell_type": "code",
   "execution_count": 5,
   "source": [
    "winreg.HKEY_CLASSES_ROOT"
   ],
   "outputs": [
    {
     "output_type": "execute_result",
     "data": {
      "text/plain": [
       "18446744071562067968"
      ]
     },
     "metadata": {},
     "execution_count": 5
    }
   ],
   "metadata": {}
  },
  {
   "cell_type": "code",
   "execution_count": 12,
   "source": [
    "extension = '.pptx'\r\n",
    "i = 0\r\n",
    "while winreg.EnumKey(winreg.HKEY_CLASSES_ROOT, i) != extension:\r\n",
    "    i += 1\r\n",
    "\r\n",
    "print(i)\r\n"
   ],
   "outputs": [
    {
     "output_type": "stream",
     "name": "stdout",
     "text": [
      "443\n"
     ]
    }
   ],
   "metadata": {}
  },
  {
   "cell_type": "code",
   "execution_count": 14,
   "source": [
    "winreg.EnumValue(winreg.EnumKey,0)"
   ],
   "outputs": [
    {
     "output_type": "error",
     "ename": "TypeError",
     "evalue": "The object is not a PyHKEY object",
     "traceback": [
      "\u001b[1;31m---------------------------------------------------------------------------\u001b[0m",
      "\u001b[1;31mTypeError\u001b[0m                                 Traceback (most recent call last)",
      "\u001b[1;32m<ipython-input-14-fb0c190070d3>\u001b[0m in \u001b[0;36m<module>\u001b[1;34m\u001b[0m\n\u001b[1;32m----> 1\u001b[1;33m \u001b[0mwinreg\u001b[0m\u001b[1;33m.\u001b[0m\u001b[0mEnumValue\u001b[0m\u001b[1;33m(\u001b[0m\u001b[0mwinreg\u001b[0m\u001b[1;33m.\u001b[0m\u001b[0mEnumKey\u001b[0m\u001b[1;33m,\u001b[0m\u001b[1;36m0\u001b[0m\u001b[1;33m)\u001b[0m\u001b[1;33m\u001b[0m\u001b[1;33m\u001b[0m\u001b[0m\n\u001b[0m",
      "\u001b[1;31mTypeError\u001b[0m: The object is not a PyHKEY object"
     ]
    }
   ],
   "metadata": {}
  },
  {
   "cell_type": "code",
   "execution_count": 16,
   "source": [
    "winreg.QueryInfoKey(winreg.HKEY_CLASSES_ROOT)"
   ],
   "outputs": [
    {
     "output_type": "execute_result",
     "data": {
      "text/plain": [
       "(4283, 0, 132744949542621993)"
      ]
     },
     "metadata": {},
     "execution_count": 16
    }
   ],
   "metadata": {}
  },
  {
   "cell_type": "code",
   "execution_count": 33,
   "source": [
    "winreg.QueryValue(winreg.HKEY_CLASSES_ROOT,extension)"
   ],
   "outputs": [
    {
     "output_type": "execute_result",
     "data": {
      "text/plain": [
       "'HSlide.Document.pptx.100'"
      ]
     },
     "metadata": {},
     "execution_count": 33
    }
   ],
   "metadata": {}
  },
  {
   "cell_type": "code",
   "execution_count": 27,
   "source": [
    "winreg.QueryValue(winreg.HKEY_CLASSES_ROOT,'HSlide.Document.pptx.100')"
   ],
   "outputs": [
    {
     "output_type": "execute_result",
     "data": {
      "text/plain": [
       "'한컴오피스 2018 한쇼 호환 파워포인트 문서'"
      ]
     },
     "metadata": {},
     "execution_count": 27
    }
   ],
   "metadata": {}
  },
  {
   "cell_type": "code",
   "execution_count": 31,
   "source": [
    "createed_key = winreg.CreateKey(winreg.HKEY_CLASSES_ROOT,'HSlide.Document.pptx.100')"
   ],
   "outputs": [],
   "metadata": {}
  },
  {
   "cell_type": "code",
   "execution_count": 32,
   "source": [
    "winreg.QueryValue(createed_key, 'DefaultIcon')"
   ],
   "outputs": [
    {
     "output_type": "execute_result",
     "data": {
      "text/plain": [
       "'\"C:\\\\Program Files (x86)\\\\HNC\\\\Office 2018\\\\HOffice100\\\\Bin\\\\hshow.exe\",1'"
      ]
     },
     "metadata": {},
     "execution_count": 32
    }
   ],
   "metadata": {}
  },
  {
   "cell_type": "code",
   "execution_count": 51,
   "source": [
    "a = '\"C:\\\\Program Files (x86)\\\\HNC\\\\Office 2018\\\\HOffice100\\\\Bin\\\\hshow.exe\",1'\r\n",
    "a.split(',')[0]"
   ],
   "outputs": [
    {
     "output_type": "execute_result",
     "data": {
      "text/plain": [
       "'\"C:\\\\Program Files (x86)\\\\HNC\\\\Office 2018\\\\HOffice100\\\\Bin\\\\hshow.exe\"'"
      ]
     },
     "metadata": {},
     "execution_count": 51
    }
   ],
   "metadata": {}
  },
  {
   "cell_type": "code",
   "execution_count": 37,
   "source": [
    "\r\n",
    "b = 'C:\\\\Python\\\\Pyqt5\\\\Gesture2Command\\\\ppt_elements\\\\amumu1.mp4'"
   ],
   "outputs": [],
   "metadata": {}
  },
  {
   "cell_type": "code",
   "execution_count": 38,
   "source": [
    "extension = '.' + b.split('.')[-1]"
   ],
   "outputs": [],
   "metadata": {}
  },
  {
   "cell_type": "code",
   "execution_count": 40,
   "source": [
    "def find_exe(file):\r\n",
    "    extension = '.' + file.split('.')[-1]\r\n",
    "    exe = winreg.QueryValue(winreg.HKEY_CLASSES_ROOT, extension)\r\n",
    "    created_key = winreg.CreateKey(winreg.HKEY_CLASSES_ROOT, exe)\r\n",
    "    exepath = winreg.QueryValue(created_key, 'DefaultIcon')\r\n",
    "    return exepath"
   ],
   "outputs": [],
   "metadata": {}
  },
  {
   "cell_type": "code",
   "execution_count": 41,
   "source": [
    "exepath = find_exe(b)"
   ],
   "outputs": [],
   "metadata": {}
  },
  {
   "cell_type": "code",
   "execution_count": 50,
   "source": [
    "exepath.split(',')[0]"
   ],
   "outputs": [
    {
     "output_type": "execute_result",
     "data": {
      "text/plain": [
       "'C:\\\\Program Files\\\\DAUM\\\\PotPlayer\\\\PotIcons64.dll'"
      ]
     },
     "metadata": {},
     "execution_count": 50
    }
   ],
   "metadata": {}
  },
  {
   "cell_type": "code",
   "execution_count": 46,
   "source": [
    "f'[{exepath}]'"
   ],
   "outputs": [
    {
     "output_type": "execute_result",
     "data": {
      "text/plain": [
       "'[C:\\\\Program Files\\\\DAUM\\\\PotPlayer\\\\PotIcons64.dll,25]'"
      ]
     },
     "metadata": {},
     "execution_count": 46
    }
   ],
   "metadata": {}
  },
  {
   "cell_type": "code",
   "execution_count": null,
   "source": [],
   "outputs": [],
   "metadata": {}
  }
 ],
 "metadata": {
  "orig_nbformat": 4,
  "language_info": {
   "name": "python",
   "version": "3.8.5",
   "mimetype": "text/x-python",
   "codemirror_mode": {
    "name": "ipython",
    "version": 3
   },
   "pygments_lexer": "ipython3",
   "nbconvert_exporter": "python",
   "file_extension": ".py"
  },
  "kernelspec": {
   "name": "python3",
   "display_name": "Python 3.8.5 64-bit ('base': conda)"
  },
  "interpreter": {
   "hash": "8fac594bfae6525c0c41b4041d2d72effa188cc8ead05f81b1fab2bb098927fb"
  }
 },
 "nbformat": 4,
 "nbformat_minor": 2
}