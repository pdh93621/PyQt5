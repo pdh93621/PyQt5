{
 "cells": [
  {
   "cell_type": "code",
   "execution_count": 1,
   "source": [
    "import time\r\n",
    "import os"
   ],
   "outputs": [],
   "metadata": {}
  },
  {
   "cell_type": "code",
   "execution_count": 2,
   "source": [
    "ppt_exepath = \"C:/Program Files (x86)/HNC/Office 2018/HOffice100/Bin/HShow.exe\"\r\n",
    "media_exepath = \"C:/Program Files/DAUM/PotPlayer\"\r\n",
    "\r\n",
    "pptpath = \"C:/Python/Pyqt5/Gesture2Command/test_datas/test_ppt.pptx\"\r\n",
    "mediapath = \"C:/Python/Pyqt5/Gesture2Command/test_datas/amumu1.mp4\"\r\n",
    "\r\n",
    "link = \"www.naver.com\""
   ],
   "outputs": [],
   "metadata": {}
  },
  {
   "cell_type": "code",
   "execution_count": 3,
   "source": [
    "from custom_ppt import *"
   ],
   "outputs": [],
   "metadata": {}
  },
  {
   "cell_type": "code",
   "execution_count": 4,
   "source": [
    "motions = ['zero','one', 'two', 'three', 'four', 'five', 'K', 'L']"
   ],
   "outputs": [],
   "metadata": {}
  },
  {
   "cell_type": "code",
   "execution_count": 5,
   "source": [
    "class_lists = []"
   ],
   "outputs": [],
   "metadata": {}
  },
  {
   "cell_type": "code",
   "execution_count": 6,
   "source": [
    "class_lists.append(StartEnd('K', ppt_exepath, pptpath))"
   ],
   "outputs": [],
   "metadata": {}
  },
  {
   "cell_type": "code",
   "execution_count": 7,
   "source": [
    "class_lists.append(NextSlide('L'))"
   ],
   "outputs": [],
   "metadata": {}
  },
  {
   "cell_type": "code",
   "execution_count": 8,
   "source": [
    "class_lists.append(PreviousSlide('zero'))"
   ],
   "outputs": [],
   "metadata": {}
  },
  {
   "cell_type": "code",
   "execution_count": 9,
   "source": [
    "class_lists.append(AddMedia('one', media_exepath, mediapath))"
   ],
   "outputs": [],
   "metadata": {}
  },
  {
   "cell_type": "code",
   "execution_count": 10,
   "source": [
    "class_lists.append(AddLink('two', link))"
   ],
   "outputs": [],
   "metadata": {}
  },
  {
   "cell_type": "code",
   "execution_count": 11,
   "source": [
    "def Gesture2Command(class_lists, given_motion):\r\n",
    "    for class_list in class_lists:\r\n",
    "        class_list.g2c(given_motion)"
   ],
   "outputs": [],
   "metadata": {}
  },
  {
   "cell_type": "code",
   "execution_count": 12,
   "source": [
    "class_lists"
   ],
   "outputs": [
    {
     "output_type": "execute_result",
     "data": {
      "text/plain": [
       "[<custom_ppt.StartEnd at 0x229856e4fa0>,\n",
       " <custom_ppt.NextSlide at 0x22987cd1070>,\n",
       " <custom_ppt.PreviousSlide at 0x22987cd1190>,\n",
       " <custom_ppt.AddMedia at 0x22987cd1250>,\n",
       " <custom_ppt.AddLink at 0x22987cd1340>]"
      ]
     },
     "metadata": {},
     "execution_count": 12
    }
   ],
   "metadata": {}
  },
  {
   "cell_type": "code",
   "execution_count": 13,
   "source": [
    "Gesture2Command(class_lists, 'K')\r\n",
    "time.sleep(1)\r\n",
    "Gesture2Command(class_lists, 'L')\r\n",
    "time.sleep(1)\r\n",
    "Gesture2Command(class_lists, 'L')\r\n",
    "time.sleep(1)\r\n",
    "Gesture2Command(class_lists, 'zero')\r\n",
    "time.sleep(1)\r\n",
    "Gesture2Command(class_lists, 'K')\r\n",
    "time.sleep(1)\r\n",
    "Gesture2Command(class_lists, 'one')\r\n",
    "time.sleep(4)\r\n",
    "Gesture2Command(class_lists, 'one')\r\n",
    "time.sleep(1)\r\n",
    "Gesture2Command(class_lists, 'two')\r\n",
    "time.sleep(2)\r\n",
    "Gesture2Command(class_lists, 'two')\r\n"
   ],
   "outputs": [],
   "metadata": {}
  },
  {
   "cell_type": "code",
   "execution_count": 2,
   "source": [
    "os.system('start')"
   ],
   "outputs": [
    {
     "output_type": "error",
     "ename": "SyntaxError",
     "evalue": "(unicode error) 'unicodeescape' codec can't decode bytes in position 9-10: truncated \\UXXXXXXXX escape (<ipython-input-2-d9c3b30b8be2>, line 1)",
     "traceback": [
      "\u001b[1;36m  File \u001b[1;32m\"<ipython-input-2-d9c3b30b8be2>\"\u001b[1;36m, line \u001b[1;32m1\u001b[0m\n\u001b[1;33m    os.system('start \"C:\\Users\\User\\Desktop\\test_ppt.pptx\"')\u001b[0m\n\u001b[1;37m              ^\u001b[0m\n\u001b[1;31mSyntaxError\u001b[0m\u001b[1;31m:\u001b[0m (unicode error) 'unicodeescape' codec can't decode bytes in position 9-10: truncated \\UXXXXXXXX escape\n"
     ]
    }
   ],
   "metadata": {}
  },
  {
   "cell_type": "code",
   "execution_count": null,
   "source": [],
   "outputs": [],
   "metadata": {}
  }
 ],
 "metadata": {
  "orig_nbformat": 4,
  "language_info": {
   "name": "python",
   "version": "3.8.5",
   "mimetype": "text/x-python",
   "codemirror_mode": {
    "name": "ipython",
    "version": 3
   },
   "pygments_lexer": "ipython3",
   "nbconvert_exporter": "python",
   "file_extension": ".py"
  },
  "kernelspec": {
   "name": "python3",
   "display_name": "Python 3.8.5 64-bit ('base': conda)"
  },
  "interpreter": {
   "hash": "8fac594bfae6525c0c41b4041d2d72effa188cc8ead05f81b1fab2bb098927fb"
  }
 },
 "nbformat": 4,
 "nbformat_minor": 2
}